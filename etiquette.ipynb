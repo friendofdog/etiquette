{
 "cells": [
  {
   "cell_type": "code",
   "execution_count": 1,
   "metadata": {},
   "outputs": [
    {
     "data": {
      "text/plain": [
       "5"
      ]
     },
     "execution_count": 1,
     "metadata": {},
     "output_type": "execute_result"
    }
   ],
   "source": [
    "2 + 3"
   ]
  },
  {
   "cell_type": "code",
   "execution_count": 49,
   "metadata": {},
   "outputs": [
    {
     "name": "stdout",
     "output_type": "stream",
     "text": [
      "4\n",
      "{'threat': 0, 'exposure': 0, 'occupation': 0}\n",
      "{'threat': 0, 'exposure': 0, 'occupation': 0}\n",
      "{'threat': 0, 'exposure': 0, 'occupation': 0}\n",
      "{'threat': 0, 'exposure': 0, 'occupation': 0}\n",
      "2\n",
      "0\n",
      "2\n",
      "1\n",
      "2\n",
      "2\n",
      "2\n",
      "3\n",
      "2\n",
      "{'threat': 0, 'exposure': 0, 'occupation': 10}\n",
      "{'threat': 0, 'exposure': 0, 'occupation': 10}\n",
      "{'threat': 0, 'exposure': 0, 'occupation': 10}\n",
      "{'threat': 0, 'exposure': 0, 'occupation': 10}\n"
     ]
    }
   ],
   "source": [
    "import random\n",
    "\n",
    "stall_count = int(input())\n",
    "stalls = [{'threat':0, 'exposure':0, 'occupation':0}]*stall_count\n",
    "print(\"\\n\".join([ str(stall) for stall in stalls ]))\n",
    "\n",
    "patron = random.randrange(0, stall_count-1)\n",
    "occupy = stalls[patron]\n",
    "print(patron)\n",
    "\n",
    "for i, stall in enumerate(stalls):\n",
    "    print(i)\n",
    "    print(patron)\n",
    "    if i == patron:\n",
    "        stall['occupation'] = 10\n",
    "#    if stall.occupation\n",
    "\n",
    "print(\"\\n\".join([ str(stall) for stall in stalls ]))"
   ]
  },
  {
   "cell_type": "markdown",
   "metadata": {},
   "source": []
  }
 ],
 "metadata": {
  "kernelspec": {
   "display_name": "Python 3",
   "language": "python",
   "name": "python3"
  },
  "language_info": {
   "codemirror_mode": {
    "name": "ipython",
    "version": 3
   },
   "file_extension": ".py",
   "mimetype": "text/x-python",
   "name": "python",
   "nbconvert_exporter": "python",
   "pygments_lexer": "ipython3",
   "version": "3.7.4"
  }
 },
 "nbformat": 4,
 "nbformat_minor": 2
}
